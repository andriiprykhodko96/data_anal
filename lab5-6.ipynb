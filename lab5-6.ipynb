{
 "cells": [
  {
   "cell_type": "markdown",
   "id": "be5c1f99-1e9b-4cac-8be3-7d9d9cfc608d",
   "metadata": {},
   "source": [
    "# Lab 5-6\n",
    "## Prykhodko Andrii & Shakhova Kate"
   ]
  },
  {
   "cell_type": "code",
   "execution_count": 1,
   "id": "5cfdd94b-3c60-4339-98e1-948c09e53de6",
   "metadata": {},
   "outputs": [],
   "source": [
    "import pandas as pd\n",
    "import numpy as np\n",
    "import re\n",
    "import string\n",
    "from nltk.corpus import stopwords\n",
    "import nltk \n",
    "from sklearn.model_selection import train_test_split,cross_val_score\n",
    "from sklearn.feature_extraction.text import TfidfVectorizer\n",
    "from sklearn.metrics import classification_report, confusion_matrix\n",
    "import seaborn as sns\n",
    "import matplotlib.pyplot as plt\n",
    "from sklearn.metrics import accuracy_score,classification_report, confusion_matrix, ConfusionMatrixDisplay"
   ]
  },
  {
   "cell_type": "code",
   "execution_count": 2,
   "id": "642c5c6f-dfde-457f-9778-e078dadd7e78",
   "metadata": {},
   "outputs": [],
   "source": [
    "dataset = 'mail_data.csv'"
   ]
  },
  {
   "cell_type": "code",
   "execution_count": 3,
   "id": "ef3f5cc2-4836-4cc7-b9a8-9f18d0a7d067",
   "metadata": {},
   "outputs": [],
   "source": [
    "data = pd.read_csv(dataset)"
   ]
  },
  {
   "cell_type": "code",
   "execution_count": 4,
   "id": "2545969e-594c-48c7-a04d-cd20239351bd",
   "metadata": {},
   "outputs": [
    {
     "data": {
      "text/html": [
       "<div>\n",
       "<style scoped>\n",
       "    .dataframe tbody tr th:only-of-type {\n",
       "        vertical-align: middle;\n",
       "    }\n",
       "\n",
       "    .dataframe tbody tr th {\n",
       "        vertical-align: top;\n",
       "    }\n",
       "\n",
       "    .dataframe thead th {\n",
       "        text-align: right;\n",
       "    }\n",
       "</style>\n",
       "<table border=\"1\" class=\"dataframe\">\n",
       "  <thead>\n",
       "    <tr style=\"text-align: right;\">\n",
       "      <th></th>\n",
       "      <th>Category</th>\n",
       "      <th>Message</th>\n",
       "    </tr>\n",
       "  </thead>\n",
       "  <tbody>\n",
       "    <tr>\n",
       "      <th>0</th>\n",
       "      <td>ham</td>\n",
       "      <td>Go until jurong point, crazy.. Available only ...</td>\n",
       "    </tr>\n",
       "    <tr>\n",
       "      <th>1</th>\n",
       "      <td>ham</td>\n",
       "      <td>Ok lar... Joking wif u oni...</td>\n",
       "    </tr>\n",
       "    <tr>\n",
       "      <th>2</th>\n",
       "      <td>spam</td>\n",
       "      <td>Free entry in 2 a wkly comp to win FA Cup fina...</td>\n",
       "    </tr>\n",
       "    <tr>\n",
       "      <th>3</th>\n",
       "      <td>ham</td>\n",
       "      <td>U dun say so early hor... U c already then say...</td>\n",
       "    </tr>\n",
       "    <tr>\n",
       "      <th>4</th>\n",
       "      <td>ham</td>\n",
       "      <td>Nah I don't think he goes to usf, he lives aro...</td>\n",
       "    </tr>\n",
       "  </tbody>\n",
       "</table>\n",
       "</div>"
      ],
      "text/plain": [
       "  Category                                            Message\n",
       "0      ham  Go until jurong point, crazy.. Available only ...\n",
       "1      ham                      Ok lar... Joking wif u oni...\n",
       "2     spam  Free entry in 2 a wkly comp to win FA Cup fina...\n",
       "3      ham  U dun say so early hor... U c already then say...\n",
       "4      ham  Nah I don't think he goes to usf, he lives aro..."
      ]
     },
     "execution_count": 4,
     "metadata": {},
     "output_type": "execute_result"
    }
   ],
   "source": [
    "data.head()"
   ]
  },
  {
   "cell_type": "code",
   "execution_count": 5,
   "id": "14240d36-b545-4502-baf9-609ad70e1a1f",
   "metadata": {},
   "outputs": [],
   "source": [
    "data_to_clear = data['Message'].values"
   ]
  },
  {
   "cell_type": "code",
   "execution_count": 6,
   "id": "72d96b71-ed42-4637-a0f0-e1bcca3a6286",
   "metadata": {},
   "outputs": [
    {
     "name": "stderr",
     "output_type": "stream",
     "text": [
      "[nltk_data] Error loading stopwords: <urlopen error [SSL:\n",
      "[nltk_data]     CERTIFICATE_VERIFY_FAILED] certificate verify failed:\n",
      "[nltk_data]     unable to get local issuer certificate (_ssl.c:997)>\n"
     ]
    }
   ],
   "source": [
    "nltk.download('stopwords')\n",
    "stop_words = stopwords.words(\"english\")"
   ]
  },
  {
   "cell_type": "code",
   "execution_count": 7,
   "id": "c81a7065-2569-4b4e-8998-f7f107975a85",
   "metadata": {},
   "outputs": [],
   "source": [
    "def clean_text(text):\n",
    "    text = text.lower()\n",
    "    text = re.sub(\"@\\S+\", \" \", text)\n",
    "    text = re.sub(\"https*\\S+\", \" \", text)\n",
    "    text = re.sub(\"#\\S+\", \" \", text)\n",
    "    text = re.sub(\"\\d\", \" \", text)\n",
    "    text = re.sub('[%s]' % re.escape(string.punctuation), ' ', text)\n",
    "    text = re.sub('\\n', ' ', text)\n",
    "    text = re.sub('\\s{2,}',' ', text)\n",
    "    text = ' '.join([word for word in text.split(' ') if word not in stop_words])\n",
    "    return text"
   ]
  },
  {
   "cell_type": "code",
   "execution_count": 8,
   "id": "2c18aa5f-2e92-4eae-9f13-ac29c73aa975",
   "metadata": {},
   "outputs": [],
   "source": [
    "clean_data = []"
   ]
  },
  {
   "cell_type": "code",
   "execution_count": 9,
   "id": "c53fd80f-2ed6-4c82-9871-dfb573fbbc57",
   "metadata": {},
   "outputs": [],
   "source": [
    "for text in data_to_clear:\n",
    "     clean_data.append(clean_text(text))"
   ]
  },
  {
   "cell_type": "code",
   "execution_count": 10,
   "id": "d0866af7-789c-4f31-97fe-7def19f5bb71",
   "metadata": {},
   "outputs": [],
   "source": [
    "data['Message']=clean_data"
   ]
  },
  {
   "cell_type": "code",
   "execution_count": 11,
   "id": "0a62cf61-e75c-444b-a2c2-3a8af677dcc0",
   "metadata": {},
   "outputs": [
    {
     "data": {
      "text/html": [
       "<div>\n",
       "<style scoped>\n",
       "    .dataframe tbody tr th:only-of-type {\n",
       "        vertical-align: middle;\n",
       "    }\n",
       "\n",
       "    .dataframe tbody tr th {\n",
       "        vertical-align: top;\n",
       "    }\n",
       "\n",
       "    .dataframe thead th {\n",
       "        text-align: right;\n",
       "    }\n",
       "</style>\n",
       "<table border=\"1\" class=\"dataframe\">\n",
       "  <thead>\n",
       "    <tr style=\"text-align: right;\">\n",
       "      <th></th>\n",
       "      <th>Category</th>\n",
       "      <th>Message</th>\n",
       "    </tr>\n",
       "  </thead>\n",
       "  <tbody>\n",
       "    <tr>\n",
       "      <th>0</th>\n",
       "      <td>ham</td>\n",
       "      <td>go jurong point crazy available bugis n great ...</td>\n",
       "    </tr>\n",
       "    <tr>\n",
       "      <th>1</th>\n",
       "      <td>ham</td>\n",
       "      <td>ok lar joking wif u oni</td>\n",
       "    </tr>\n",
       "    <tr>\n",
       "      <th>2</th>\n",
       "      <td>spam</td>\n",
       "      <td>free entry wkly comp win fa cup final tkts st ...</td>\n",
       "    </tr>\n",
       "    <tr>\n",
       "      <th>3</th>\n",
       "      <td>ham</td>\n",
       "      <td>u dun say early hor u c already say</td>\n",
       "    </tr>\n",
       "    <tr>\n",
       "      <th>4</th>\n",
       "      <td>ham</td>\n",
       "      <td>nah think goes usf lives around though</td>\n",
       "    </tr>\n",
       "  </tbody>\n",
       "</table>\n",
       "</div>"
      ],
      "text/plain": [
       "  Category                                            Message\n",
       "0      ham  go jurong point crazy available bugis n great ...\n",
       "1      ham                           ok lar joking wif u oni \n",
       "2     spam  free entry wkly comp win fa cup final tkts st ...\n",
       "3      ham               u dun say early hor u c already say \n",
       "4      ham             nah think goes usf lives around though"
      ]
     },
     "execution_count": 11,
     "metadata": {},
     "output_type": "execute_result"
    }
   ],
   "source": [
    "data.head()"
   ]
  },
  {
   "cell_type": "code",
   "execution_count": 12,
   "id": "e534c36e-2602-4bd7-a07d-ecc318881c71",
   "metadata": {},
   "outputs": [],
   "source": [
    "data['Category'] = data['Category'].map({'spam':1, 'ham': 0})"
   ]
  },
  {
   "cell_type": "code",
   "execution_count": 13,
   "id": "78060952-103b-4f68-bdd1-05bbe2a3809c",
   "metadata": {},
   "outputs": [
    {
     "data": {
      "text/html": [
       "<div>\n",
       "<style scoped>\n",
       "    .dataframe tbody tr th:only-of-type {\n",
       "        vertical-align: middle;\n",
       "    }\n",
       "\n",
       "    .dataframe tbody tr th {\n",
       "        vertical-align: top;\n",
       "    }\n",
       "\n",
       "    .dataframe thead th {\n",
       "        text-align: right;\n",
       "    }\n",
       "</style>\n",
       "<table border=\"1\" class=\"dataframe\">\n",
       "  <thead>\n",
       "    <tr style=\"text-align: right;\">\n",
       "      <th></th>\n",
       "      <th>Category</th>\n",
       "      <th>Message</th>\n",
       "    </tr>\n",
       "  </thead>\n",
       "  <tbody>\n",
       "    <tr>\n",
       "      <th>0</th>\n",
       "      <td>0</td>\n",
       "      <td>go jurong point crazy available bugis n great ...</td>\n",
       "    </tr>\n",
       "    <tr>\n",
       "      <th>1</th>\n",
       "      <td>0</td>\n",
       "      <td>ok lar joking wif u oni</td>\n",
       "    </tr>\n",
       "    <tr>\n",
       "      <th>2</th>\n",
       "      <td>1</td>\n",
       "      <td>free entry wkly comp win fa cup final tkts st ...</td>\n",
       "    </tr>\n",
       "    <tr>\n",
       "      <th>3</th>\n",
       "      <td>0</td>\n",
       "      <td>u dun say early hor u c already say</td>\n",
       "    </tr>\n",
       "    <tr>\n",
       "      <th>4</th>\n",
       "      <td>0</td>\n",
       "      <td>nah think goes usf lives around though</td>\n",
       "    </tr>\n",
       "  </tbody>\n",
       "</table>\n",
       "</div>"
      ],
      "text/plain": [
       "   Category                                            Message\n",
       "0         0  go jurong point crazy available bugis n great ...\n",
       "1         0                           ok lar joking wif u oni \n",
       "2         1  free entry wkly comp win fa cup final tkts st ...\n",
       "3         0               u dun say early hor u c already say \n",
       "4         0             nah think goes usf lives around though"
      ]
     },
     "execution_count": 13,
     "metadata": {},
     "output_type": "execute_result"
    }
   ],
   "source": [
    "data.head()"
   ]
  },
  {
   "cell_type": "code",
   "execution_count": 14,
   "id": "c76063e2-331c-4b89-b236-4904a465eac8",
   "metadata": {},
   "outputs": [],
   "source": [
    "X = data[\"Message\"]\n",
    "y = data[\"Category\"]"
   ]
  },
  {
   "cell_type": "code",
   "execution_count": 15,
   "id": "5dbe5f48-ec47-4fd9-a4f2-6ec4a08be491",
   "metadata": {},
   "outputs": [],
   "source": [
    "X_train, X_test, y_train, y_test = train_test_split(X, y, test_size=0.3)"
   ]
  },
  {
   "cell_type": "code",
   "execution_count": 16,
   "id": "ff9c167a-1c71-47c3-8d31-be3a874ad3f4",
   "metadata": {},
   "outputs": [],
   "source": [
    "vectorizer = TfidfVectorizer()\n",
    "X_train_features = vectorizer.fit_transform(X_train)\n",
    "X_test_features = vectorizer.transform(X_test)"
   ]
  },
  {
   "cell_type": "markdown",
   "id": "1634ae16-7464-4152-b113-adac90ab7c1a",
   "metadata": {},
   "source": [
    "## MNB classifier"
   ]
  },
  {
   "cell_type": "code",
   "execution_count": 17,
   "id": "66ad9ba0-328b-4fec-8855-5290c5195c11",
   "metadata": {},
   "outputs": [
    {
     "data": {
      "text/html": [
       "<style>#sk-container-id-1 {color: black;}#sk-container-id-1 pre{padding: 0;}#sk-container-id-1 div.sk-toggleable {background-color: white;}#sk-container-id-1 label.sk-toggleable__label {cursor: pointer;display: block;width: 100%;margin-bottom: 0;padding: 0.3em;box-sizing: border-box;text-align: center;}#sk-container-id-1 label.sk-toggleable__label-arrow:before {content: \"▸\";float: left;margin-right: 0.25em;color: #696969;}#sk-container-id-1 label.sk-toggleable__label-arrow:hover:before {color: black;}#sk-container-id-1 div.sk-estimator:hover label.sk-toggleable__label-arrow:before {color: black;}#sk-container-id-1 div.sk-toggleable__content {max-height: 0;max-width: 0;overflow: hidden;text-align: left;background-color: #f0f8ff;}#sk-container-id-1 div.sk-toggleable__content pre {margin: 0.2em;color: black;border-radius: 0.25em;background-color: #f0f8ff;}#sk-container-id-1 input.sk-toggleable__control:checked~div.sk-toggleable__content {max-height: 200px;max-width: 100%;overflow: auto;}#sk-container-id-1 input.sk-toggleable__control:checked~label.sk-toggleable__label-arrow:before {content: \"▾\";}#sk-container-id-1 div.sk-estimator input.sk-toggleable__control:checked~label.sk-toggleable__label {background-color: #d4ebff;}#sk-container-id-1 div.sk-label input.sk-toggleable__control:checked~label.sk-toggleable__label {background-color: #d4ebff;}#sk-container-id-1 input.sk-hidden--visually {border: 0;clip: rect(1px 1px 1px 1px);clip: rect(1px, 1px, 1px, 1px);height: 1px;margin: -1px;overflow: hidden;padding: 0;position: absolute;width: 1px;}#sk-container-id-1 div.sk-estimator {font-family: monospace;background-color: #f0f8ff;border: 1px dotted black;border-radius: 0.25em;box-sizing: border-box;margin-bottom: 0.5em;}#sk-container-id-1 div.sk-estimator:hover {background-color: #d4ebff;}#sk-container-id-1 div.sk-parallel-item::after {content: \"\";width: 100%;border-bottom: 1px solid gray;flex-grow: 1;}#sk-container-id-1 div.sk-label:hover label.sk-toggleable__label {background-color: #d4ebff;}#sk-container-id-1 div.sk-serial::before {content: \"\";position: absolute;border-left: 1px solid gray;box-sizing: border-box;top: 0;bottom: 0;left: 50%;z-index: 0;}#sk-container-id-1 div.sk-serial {display: flex;flex-direction: column;align-items: center;background-color: white;padding-right: 0.2em;padding-left: 0.2em;position: relative;}#sk-container-id-1 div.sk-item {position: relative;z-index: 1;}#sk-container-id-1 div.sk-parallel {display: flex;align-items: stretch;justify-content: center;background-color: white;position: relative;}#sk-container-id-1 div.sk-item::before, #sk-container-id-1 div.sk-parallel-item::before {content: \"\";position: absolute;border-left: 1px solid gray;box-sizing: border-box;top: 0;bottom: 0;left: 50%;z-index: -1;}#sk-container-id-1 div.sk-parallel-item {display: flex;flex-direction: column;z-index: 1;position: relative;background-color: white;}#sk-container-id-1 div.sk-parallel-item:first-child::after {align-self: flex-end;width: 50%;}#sk-container-id-1 div.sk-parallel-item:last-child::after {align-self: flex-start;width: 50%;}#sk-container-id-1 div.sk-parallel-item:only-child::after {width: 0;}#sk-container-id-1 div.sk-dashed-wrapped {border: 1px dashed gray;margin: 0 0.4em 0.5em 0.4em;box-sizing: border-box;padding-bottom: 0.4em;background-color: white;}#sk-container-id-1 div.sk-label label {font-family: monospace;font-weight: bold;display: inline-block;line-height: 1.2em;}#sk-container-id-1 div.sk-label-container {text-align: center;}#sk-container-id-1 div.sk-container {/* jupyter's `normalize.less` sets `[hidden] { display: none; }` but bootstrap.min.css set `[hidden] { display: none !important; }` so we also need the `!important` here to be able to override the default hidden behavior on the sphinx rendered scikit-learn.org. See: https://github.com/scikit-learn/scikit-learn/issues/21755 */display: inline-block !important;position: relative;}#sk-container-id-1 div.sk-text-repr-fallback {display: none;}</style><div id=\"sk-container-id-1\" class=\"sk-top-container\"><div class=\"sk-text-repr-fallback\"><pre>DecisionTreeClassifier()</pre><b>In a Jupyter environment, please rerun this cell to show the HTML representation or trust the notebook. <br />On GitHub, the HTML representation is unable to render, please try loading this page with nbviewer.org.</b></div><div class=\"sk-container\" hidden><div class=\"sk-item\"><div class=\"sk-estimator sk-toggleable\"><input class=\"sk-toggleable__control sk-hidden--visually\" id=\"sk-estimator-id-1\" type=\"checkbox\" checked><label for=\"sk-estimator-id-1\" class=\"sk-toggleable__label sk-toggleable__label-arrow\">DecisionTreeClassifier</label><div class=\"sk-toggleable__content\"><pre>DecisionTreeClassifier()</pre></div></div></div></div></div>"
      ],
      "text/plain": [
       "DecisionTreeClassifier()"
      ]
     },
     "execution_count": 17,
     "metadata": {},
     "output_type": "execute_result"
    }
   ],
   "source": [
    "from sklearn.tree import DecisionTreeClassifier #CART\n",
    "\n",
    "DT_classifier = DecisionTreeClassifier()#створимо класифікатор дерева рішень, що працює на основі CART\n",
    "DT_classifier.fit(X_train_features, y_train)#вчимо класифікатор"
   ]
  },
  {
   "cell_type": "code",
   "execution_count": 20,
   "id": "07070e87-7c23-402f-ac8d-86ba4ad66ae7",
   "metadata": {},
   "outputs": [
    {
     "name": "stdout",
     "output_type": "stream",
     "text": [
      "              precision    recall  f1-score   support\n",
      "\n",
      "           0       0.98      0.99      0.98      1475\n",
      "           1       0.88      0.82      0.85       197\n",
      "\n",
      "    accuracy                           0.97      1672\n",
      "   macro avg       0.93      0.90      0.92      1672\n",
      "weighted avg       0.97      0.97      0.97      1672\n",
      "\n",
      "Accuracy of MNB classifier: 97 %\n"
     ]
    }
   ],
   "source": [
    "y_pred = DT_classifier.predict(X_test_features)#прогнозуємо тестові дані\n",
    "\n",
    "print(classification_report(y_test,y_pred))# виводимо звіт класифікації\n",
    "\n",
    "print('Accuracy of MNB classifier: {} %'.format(round(accuracy_score(y_test, y_pred) * 100),2))#виводимо загальну точність"
   ]
  },
  {
   "cell_type": "code",
   "execution_count": 21,
   "id": "1d171316-188b-4666-aa64-b06fd0cbfbb2",
   "metadata": {},
   "outputs": [
    {
     "data": {
      "image/png": "[encoded data removed]",
      "text/plain": [
       "<Figure size 800x800 with 2 Axes>"
      ]
     },
     "metadata": {},
     "output_type": "display_data"
    }
   ],
   "source": [
    "#побудуємо матрицю плутанини\n",
    "\n",
    "plt.rcParams[\"figure.figsize\"] = (8,8)\n",
    "\n",
    "cm = confusion_matrix(y_test, y_pred, labels=DT_classifier.classes_)\n",
    "disp = ConfusionMatrixDisplay(confusion_matrix=cm,\n",
    "                              display_labels=data.Category.unique())\n",
    "disp.plot()\n",
    "plt.title(\"ConfusionMatrix for MNB-classifier\")\n",
    "\n",
    "plt.show()"
   ]
  },
  {
   "cell_type": "markdown",
   "id": "b5514649-06e2-4a70-a712-988ee55df0ea",
   "metadata": {},
   "source": [
    "## DB Scan"
   ]
  },
  {
   "cell_type": "code",
   "execution_count": 22,
   "id": "8ed950b2-69a4-48eb-a97d-479533804416",
   "metadata": {},
   "outputs": [],
   "source": [
    "vectorizer = TfidfVectorizer()#створимо векторизатор\n",
    "X_features = vectorizer.fit_transform(X).toarray()#векторизуємо дані \n",
    "\n",
    "# Перетворимо всі дані у розмірність 2\n",
    "\n",
    "from sklearn.decomposition import PCA \n",
    "\n",
    "pca = PCA(n_components=2) \n",
    "X_pca = pca.fit_transform(X_features) "
   ]
  },
  {
   "cell_type": "code",
   "execution_count": 23,
   "id": "d6d5f576-54f0-4fd2-860c-446d782e85a9",
   "metadata": {},
   "outputs": [
    {
     "data": {
      "image/png": "[encoded data removed]",
      "text/plain": [
       "<Figure size 800x800 with 1 Axes>"
      ]
     },
     "metadata": {},
     "output_type": "display_data"
    }
   ],
   "source": [
    "#Візуалізуємо розподіл точок у просторі\n",
    "\n",
    "\n",
    "for i in data.Category.unique(): \n",
    "    plt.scatter(X_pca[data['Category'] == i, 0], \n",
    "                X_pca[data['Category'] == i, 1],  \n",
    "                s=10, label = i) \n",
    "plt.legend() \n",
    "plt.show()"
   ]
  },
  {
   "cell_type": "code",
   "execution_count": 24,
   "id": "a38e09e8-c8ab-4088-8f46-2a05e38b8128",
   "metadata": {},
   "outputs": [],
   "source": [
    "#Проводимо DBSCAN\n",
    "\n",
    "# Створимо 2 моделі з різними параметрами та порівняємо їх, використовуючи А/В тестування\n",
    "# Введемо нульову гіпотезу: Точність модельі 1 <= Точності моделі 2. Як метрику точності викоритаємо v_measure_score \n",
    "# Введемо гіпотезу 1: Точність модельі 2 <= Точності моделі 1\n",
    "\n",
    "from sklearn.cluster import DBSCAN\n",
    "from sklearn import metrics\n",
    "from scipy.stats import ttest_ind"
   ]
  },
  {
   "cell_type": "code",
   "execution_count": 25,
   "id": "9100e66a-8933-4da2-aa62-b7aaea786ab6",
   "metadata": {},
   "outputs": [
    {
     "name": "stderr",
     "output_type": "stream",
     "text": [
      "/var/folders/_c/hfddj3lj4gg6_1zrnr5bsbb40000gp/T/ipykernel_2001/3576424259.py:14: FutureWarning: Series.replace without 'value' and with non-dict-like 'to_replace' is deprecated and will raise in a future version. Explicitly specify the new values instead.\n",
      "  df['model_A'] = df['model_A'].replace()\n"
     ]
    },
    {
     "name": "stdout",
     "output_type": "stream",
     "text": [
      "stat:  -6.263532349885574 \n",
      "p_val: 0.0\n"
     ]
    }
   ],
   "source": [
    "BUCKETS = 64 #Розмір пакету \n",
    "\n",
    "def get_v_measure_score(df):\n",
    "    return metrics.v_measure_score(df['Spam_label'], df['model_A']),metrics.v_measure_score(df['Spam_label'], df['model_B'])\n",
    "\n",
    "df = pd.DataFrame()\n",
    "df['id'] = range(y.shape[0])\n",
    "df['Spam_label'] = y.replace(1,-1) #бо DBSCAN повертає викиди як -1 (СПАМ)\n",
    "\n",
    "#  модель 1\n",
    "model_A = DBSCAN(eps=1, min_samples = 3)\n",
    "model_A.fit(X_features)\n",
    "df['model_A'] = model_A.labels_\n",
    "df['model_A'] = df['model_A'].replace() \n",
    "\n",
    "#  модель 2\n",
    "model_B = DBSCAN(eps=3, min_samples=5)\n",
    "model_B.fit(X_features)\n",
    "df['model_B'] = model_B.labels_\n",
    "\n",
    "\n",
    "# рахуємо v_measure_score по бакетам\n",
    "df['bucket'] = pd.util.hash_pandas_object(df['id'], index=False) % BUCKETS\n",
    "tmp = df.groupby(['bucket']).apply(get_v_measure_score).reset_index().rename(columns={0:'v_measure_score'})\n",
    "\n",
    "tmp[['v_measure_score_A', 'v_measure_score_B']] = tmp['v_measure_score'].tolist()\n",
    "stat, p_val = ttest_ind(tmp['v_measure_score_B'], tmp['v_measure_score_A'], equal_var=False)\n",
    "\n",
    "print('stat: ', stat, '\\np_val:', round(p_val, 5))\n"
   ]
  },
  {
   "cell_type": "code",
   "execution_count": 26,
   "id": "d21e9f98-83fb-4f1b-9e9f-c65cd51aeb33",
   "metadata": {},
   "outputs": [
    {
     "name": "stdout",
     "output_type": "stream",
     "text": [
      "Number of spam messages: 729\n"
     ]
    }
   ],
   "source": [
    "# Визначимо дані, які можуть бути спамом\n",
    "spam_data = df[df['model_A'] == -1].shape[0]\n",
    "print(\"Number of spam messages:\", spam_data)"
   ]
  },
  {
   "cell_type": "code",
   "execution_count": 27,
   "id": "d14a11ba-9cc2-413f-922f-24b43d34c8a5",
   "metadata": {},
   "outputs": [
    {
     "name": "stdout",
     "output_type": "stream",
     "text": [
      "Number of detected spam messages: 74\n"
     ]
    }
   ],
   "source": [
    "# Визначимо дані, які можуть є спамом і розпізнані як спам\n",
    "spam_data = df[(df['model_A']==-1) & (df['Spam_label']== -1)].shape[0]\n",
    "print(\"Number of detected spam messages:\", spam_data)"
   ]
  },
  {
   "cell_type": "code",
   "execution_count": 28,
   "id": "873e63ca-6bd8-496f-afbc-9d55502143c4",
   "metadata": {},
   "outputs": [
    {
     "data": {
      "image/png": "[encoded data removed]",
      "text/plain": [
       "<Figure size 800x800 with 1 Axes>"
      ]
     },
     "metadata": {},
     "output_type": "display_data"
    }
   ],
   "source": [
    "# візуалізуємо. -1 - це спам, інші кластери - якісь специфічні поідомлення (можливо одна теми ітд)\n",
    "\n",
    "for i in df['model_A'].unique(): \n",
    "    plt.scatter(X_pca[df['model_A'] == i, 0], \n",
    "                X_pca[df['model_A'] == i, 1],  \n",
    "                s=10, label = i) \n",
    "plt.legend() \n",
    "plt.show()"
   ]
  },
  {
   "cell_type": "code",
   "execution_count": null,
   "id": "4338d15c-cf42-49bb-9c5f-a997e1f2aa51",
   "metadata": {},
   "outputs": [],
   "source": []
  }
 ],
 "metadata": {
  "kernelspec": {
   "display_name": "Python 3 (ipykernel)",
   "language": "python",
   "name": "python3"
  },
  "language_info": {
   "codemirror_mode": {
    "name": "ipython",
    "version": 3
   },
   "file_extension": ".py",
   "mimetype": "text/x-python",
   "name": "python",
   "nbconvert_exporter": "python",
   "pygments_lexer": "ipython3",
   "version": "3.10.6"
  }
 },
 "nbformat": 4,
 "nbformat_minor": 5
}
